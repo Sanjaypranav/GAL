{
 "cells": [
  {
   "cell_type": "code",
   "execution_count": null,
   "metadata": {},
   "outputs": [],
   "source": []
  }
 ],
 "metadata": {
  "kernelspec": {
   "display_name": "gal",
   "language": "python",
   "name": "python3"
  },
  "language_info": {
   "name": "python",
   "version": "3.9.15"
  },
  "orig_nbformat": 4,
  "vscode": {
   "interpreter": {
    "hash": "16ab4d3b00f40b61a5f6a330634f569ae1d835d209bc117c9d4ab6f5fc796ea0"
   }
  }
 },
 "nbformat": 4,
 "nbformat_minor": 2
}
